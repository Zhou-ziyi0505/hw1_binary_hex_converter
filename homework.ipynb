{
 "cells": [
  {
   "cell_type": "code",
   "execution_count": 2,
   "id": "23cea237-4659-4d10-b15f-741a679a55ec",
   "metadata": {},
   "outputs": [
    {
     "name": "stdin",
     "output_type": "stream",
     "text": [
      "請輸入一個 0-255 之間的數字:  27\n"
     ]
    },
    {
     "name": "stdout",
     "output_type": "stream",
     "text": [
      "十進位: 27\n",
      "二進位: 00011011\n",
      "十六進位: 1B\n"
     ]
    }
   ],
   "source": [
    "def decimal_to_binary(n):\n",
    "    \"\"\"手動將十進位轉換為二進位\"\"\"\n",
    "    binary = []\n",
    "    for _ in range(8):  # 8 位元表示\n",
    "        binary.append(str(n % 2))  # 取餘數\n",
    "        n //= 2  # 除以 2\n",
    "    return ''.join(binary[::-1])  # 逆序排列\n",
    "\n",
    "def decimal_to_hexadecimal(n):\n",
    "    \"\"\"手動將十進位轉換為十六進位\"\"\"\n",
    "    hex_digits = \"0123456789ABCDEF\"\n",
    "    hexadecimal = []\n",
    "    for _ in range(2):  # 16 進位最多兩位\n",
    "        hexadecimal.append(hex_digits[n % 16])  # 取餘數對應 16 進位\n",
    "        n //= 16  # 除以 16\n",
    "    return ''.join(hexadecimal[::-1])  # 逆序排列\n",
    "\n",
    "# 主程式\n",
    "num = int(input(\"請輸入一個 0-255 之間的數字: \"))\n",
    "if 0 <= num <= 255:\n",
    "    binary_result = decimal_to_binary(num)\n",
    "    hex_result = decimal_to_hexadecimal(num)\n",
    "    print(f\"十進位: {num}\")\n",
    "    print(f\"二進位: {binary_result}\")\n",
    "    print(f\"十六進位: {hex_result}\")\n",
    "else:\n",
    "    print(\"輸入錯誤，請輸入 0-255 之間的數字。\")"
   ]
  },
  {
   "cell_type": "code",
   "execution_count": null,
   "id": "6fdbe212-a0f3-4c1d-8764-e5a4066a2550",
   "metadata": {},
   "outputs": [],
   "source": []
  }
 ],
 "metadata": {
  "kernelspec": {
   "display_name": "Python [conda env:base] *",
   "language": "python",
   "name": "conda-base-py"
  },
  "language_info": {
   "codemirror_mode": {
    "name": "ipython",
    "version": 3
   },
   "file_extension": ".py",
   "mimetype": "text/x-python",
   "name": "python",
   "nbconvert_exporter": "python",
   "pygments_lexer": "ipython3",
   "version": "3.12.7"
  }
 },
 "nbformat": 4,
 "nbformat_minor": 5
}
